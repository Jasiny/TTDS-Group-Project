{
 "cells": [
  {
   "cell_type": "markdown",
   "metadata": {},
   "source": [
    "### This notebook demonstrates how to evaluate accuracy"
   ]
  },
  {
   "cell_type": "code",
   "execution_count": 1,
   "metadata": {},
   "outputs": [],
   "source": [
    "from sklearn.neighbors import NearestNeighbors\n",
    "from TfidfVectorizer import TfidfVectorizer\n",
    "from tqdm import tqdm\n",
    "from utils import *\n",
    "\n",
    "data = load_data_from_json('data/data_with_augmented.json')\n",
    "data_test = load_data_from_json('data/test_200.json')"
   ]
  },
  {
   "cell_type": "code",
   "execution_count": 2,
   "metadata": {},
   "outputs": [],
   "source": [
    "vectorizer = TfidfVectorizer(stop_words=None, stemmer=None, norm=False)\n",
    "\n",
    "X_tfidf = vectorizer.fit_transform(data)\n",
    "words = vectorizer.words\n",
    "\n",
    "knn = NearestNeighbors(metric='cosine')\n",
    "knn.fit(X_tfidf)\n",
    "\n",
    "y_pred = []\n",
    "y_gold = []\n",
    "for word, defi in tqdm(data_test.items()):\n",
    "    query = list(defi)[0]\n",
    "    query = vectorizer.transform(query)\n",
    "\n",
    "    prediction = search(query, knn, words, n=1000)\n",
    "\n",
    "    y_pred.append(prediction)\n",
    "    y_gold.append(word)\n",
    "\n",
    "acc_1, acc_10, acc_100, median_rank, var_rank = evaluate(y_pred, y_gold)"
   ]
  }
 ],
 "metadata": {
  "interpreter": {
   "hash": "3d597f4c481aa0f25dceb95d2a0067e73c0966dcbd003d741d821a7208527ecf"
  },
  "kernelspec": {
   "display_name": "Python 3.9.7 ('base')",
   "language": "python",
   "name": "python3"
  },
  "language_info": {
   "codemirror_mode": {
    "name": "ipython",
    "version": 3
   },
   "file_extension": ".py",
   "mimetype": "text/x-python",
   "name": "python",
   "nbconvert_exporter": "python",
   "pygments_lexer": "ipython3",
   "version": "3.9.7"
  },
  "orig_nbformat": 4
 },
 "nbformat": 4,
 "nbformat_minor": 2
}
