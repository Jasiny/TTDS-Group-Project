{
 "cells": [
  {
   "cell_type": "markdown",
   "metadata": {},
   "source": [
    "### This notebook shows statistical details of data"
   ]
  },
  {
   "cell_type": "code",
   "execution_count": 1,
   "metadata": {},
   "outputs": [],
   "source": [
    "from utils import *"
   ]
  },
  {
   "cell_type": "code",
   "execution_count": 2,
   "metadata": {},
   "outputs": [
    {
     "name": "stdout",
     "output_type": "stream",
     "text": [
      "num of words: 103874\n",
      "num of docs: 733318\n",
      "max doc length: 144\n",
      "min doc length: 1\n",
      "mean doc length: 12\n",
      "median doc length: 9\n"
     ]
    }
   ],
   "source": [
    "show_data_stats(load_data_from_json('data/data_5d.json'))"
   ]
  },
  {
   "cell_type": "code",
   "execution_count": 3,
   "metadata": {},
   "outputs": [
    {
     "name": "stdout",
     "output_type": "stream",
     "text": [
      "num of words: 103874\n",
      "num of docs: 781608\n",
      "max doc length: 144\n",
      "min doc length: 0\n",
      "mean doc length: 11\n",
      "median doc length: 9\n"
     ]
    }
   ],
   "source": [
    "show_data_stats(load_data_from_json('data/data_5d.json', use_examples=True))"
   ]
  },
  {
   "cell_type": "code",
   "execution_count": 4,
   "metadata": {},
   "outputs": [
    {
     "name": "stdout",
     "output_type": "stream",
     "text": [
      "num of words: 53632\n",
      "num of docs: 219580\n",
      "max doc length: 95\n",
      "min doc length: 1\n",
      "mean doc length: 9\n",
      "median doc length: 7\n"
     ]
    }
   ],
   "source": [
    "show_data_stats(load_data_from_json('data/data_oed.json'))"
   ]
  },
  {
   "cell_type": "code",
   "execution_count": 5,
   "metadata": {},
   "outputs": [
    {
     "name": "stdout",
     "output_type": "stream",
     "text": [
      "num of words: 53632\n",
      "num of docs: 310935\n",
      "max doc length: 95\n",
      "min doc length: 1\n",
      "mean doc length: 8\n",
      "median doc length: 7\n"
     ]
    }
   ],
   "source": [
    "show_data_stats(load_data_from_json('data/data_oed.json', use_examples=True))"
   ]
  },
  {
   "cell_type": "code",
   "execution_count": 6,
   "metadata": {},
   "outputs": [
    {
     "name": "stdout",
     "output_type": "stream",
     "text": [
      "num of words: 51664\n",
      "num of docs: 56065\n",
      "max doc length: 359\n",
      "min doc length: 1\n",
      "mean doc length: 46\n",
      "median doc length: 38\n"
     ]
    }
   ],
   "source": [
    "show_data_stats(load_data_from_json('data/data_wiki.json'))"
   ]
  },
  {
   "cell_type": "code",
   "execution_count": 7,
   "metadata": {},
   "outputs": [
    {
     "name": "stdout",
     "output_type": "stream",
     "text": [
      "num of words: 51664\n",
      "num of docs: 56065\n",
      "max doc length: 359\n",
      "min doc length: 1\n",
      "mean doc length: 46\n",
      "median doc length: 38\n"
     ]
    }
   ],
   "source": [
    "# no examples for data_wiki\n",
    "show_data_stats(load_data_from_json('data/data_wiki.json', use_examples=True))"
   ]
  },
  {
   "cell_type": "code",
   "execution_count": 8,
   "metadata": {},
   "outputs": [
    {
     "name": "stdout",
     "output_type": "stream",
     "text": [
      "num of words: 103874\n",
      "num of docs: 1007305\n",
      "max doc length: 359\n",
      "min doc length: 1\n",
      "mean doc length: 13\n",
      "median doc length: 9\n"
     ]
    }
   ],
   "source": [
    "# 5d + oed + wiki\n",
    "show_data_stats(load_data_from_json('data/data.json'))"
   ]
  },
  {
   "cell_type": "code",
   "execution_count": 9,
   "metadata": {},
   "outputs": [
    {
     "name": "stdout",
     "output_type": "stream",
     "text": [
      "num of words: 103874\n",
      "num of docs: 1146659\n",
      "max doc length: 359\n",
      "min doc length: 0\n",
      "mean doc length: 12\n",
      "median doc length: 8\n"
     ]
    }
   ],
   "source": [
    "# 5d + oed + wiki + example sentences\n",
    "# no need for setting up use_examples=True, because I already merged in this new file\n",
    "show_data_stats(load_data_from_json('data/data_with_examples.json'))"
   ]
  },
  {
   "cell_type": "code",
   "execution_count": 10,
   "metadata": {},
   "outputs": [
    {
     "name": "stdout",
     "output_type": "stream",
     "text": [
      "num of words: 103874\n",
      "num of docs: 9926588\n",
      "max doc length: 389\n",
      "min doc length: 1\n",
      "mean doc length: 15\n",
      "median doc length: 11\n"
     ]
    }
   ],
   "source": [
    "# augmented data by back translation and synonyms\n",
    "show_data_stats(load_data_from_json('data/data_with_augmented.json'))"
   ]
  },
  {
   "cell_type": "code",
   "execution_count": 11,
   "metadata": {},
   "outputs": [
    {
     "name": "stdout",
     "output_type": "stream",
     "text": [
      "num of words: 103874\n",
      "num of docs: 11120552\n",
      "max doc length: 390\n",
      "min doc length: 0\n",
      "mean doc length: 14\n",
      "median doc length: 10\n"
     ]
    }
   ],
   "source": [
    "# augmented data with examples\n",
    "show_data_stats(load_data_from_json('data/data_with_augmented_examples.json'))"
   ]
  }
 ],
 "metadata": {
  "interpreter": {
   "hash": "3d597f4c481aa0f25dceb95d2a0067e73c0966dcbd003d741d821a7208527ecf"
  },
  "kernelspec": {
   "display_name": "Python 3.9.7 ('base')",
   "language": "python",
   "name": "python3"
  },
  "language_info": {
   "codemirror_mode": {
    "name": "ipython",
    "version": 3
   },
   "file_extension": ".py",
   "mimetype": "text/x-python",
   "name": "python",
   "nbconvert_exporter": "python",
   "pygments_lexer": "ipython3",
   "version": "3.9.7"
  },
  "orig_nbformat": 4
 },
 "nbformat": 4,
 "nbformat_minor": 2
}
