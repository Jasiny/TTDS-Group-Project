{
 "cells": [
  {
   "cell_type": "code",
   "execution_count": 1,
   "metadata": {},
   "outputs": [
    {
     "name": "stdout",
     "output_type": "stream",
     "text": [
      "Num of Noun words: 71185 (78.26%)\n",
      "Num of Verb words: 13830 (15.20%)\n",
      "Num of Adj  words: 13445 (14.78%)\n",
      "Num of Adv  words: 3567 (3.92%)\n"
     ]
    }
   ],
   "source": [
    "from utils import *\n",
    "\n",
    "word2pos, words_noun, words_verb, words_adj, words_adv = load_pos_from_json('data/word2pos.json')"
   ]
  },
  {
   "cell_type": "markdown",
   "metadata": {},
   "source": [
    "# Tasks\n",
    "\n",
    "1. Load data.\n",
    "\n",
    "2. Filter the words (including their definitions) in data based on their POS tags.\n",
    "\n",
    "    That is, for each of four POS tags, generateing four sub-data with same POS tag.\n",
    "\n",
    "3. For each sub-data, fit the model.\n",
    "\n",
    "4. Evaluate by calling evlauate() method from [utils.py](utils.py)."
   ]
  }
 ],
 "metadata": {
  "interpreter": {
   "hash": "3d597f4c481aa0f25dceb95d2a0067e73c0966dcbd003d741d821a7208527ecf"
  },
  "kernelspec": {
   "display_name": "Python 3.9.7 ('base')",
   "language": "python",
   "name": "python3"
  },
  "language_info": {
   "codemirror_mode": {
    "name": "ipython",
    "version": 3
   },
   "file_extension": ".py",
   "mimetype": "text/x-python",
   "name": "python",
   "nbconvert_exporter": "python",
   "pygments_lexer": "ipython3",
   "version": "3.9.7"
  },
  "orig_nbformat": 4
 },
 "nbformat": 4,
 "nbformat_minor": 2
}
