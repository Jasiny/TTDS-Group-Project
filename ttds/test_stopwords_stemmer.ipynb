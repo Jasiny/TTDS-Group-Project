{
 "cells": [
  {
   "cell_type": "markdown",
   "metadata": {},
   "source": [
    "### This notebook demonstrates how to evaluate accuracy"
   ]
  },
  {
   "cell_type": "code",
   "execution_count": null,
   "metadata": {},
   "outputs": [],
   "source": [
    "from sklearn.neighbors import NearestNeighbors\n",
    "from nltk.stem.porter import PorterStemmer\n",
    "from BM25Vectorizer import BM25Vectorizer\n",
    "from nltk.corpus import stopwords \n",
    "from tqdm import tqdm\n",
    "from utils import *\n",
    "\n",
    "data, data_train, data_seen_500, data_unseen_500, data_test = load_data()"
   ]
  },
  {
   "cell_type": "markdown",
   "metadata": {},
   "source": [
    "### Test description set (200) data"
   ]
  },
  {
   "cell_type": "code",
   "execution_count": null,
   "metadata": {},
   "outputs": [],
   "source": [
    "vectorizers = [BM25Vectorizer(stop_words=stopwords.words('english'), stemmer=PorterStemmer(), norm=False),\n",
    "               BM25Vectorizer(stop_words=stopwords.words('english'), stemmer=None, norm=False),\n",
    "               BM25Vectorizer(stop_words=None, stemmer=PorterStemmer(), norm=False),\n",
    "               BM25Vectorizer(stop_words=None, stemmer=None, norm=False)]\n",
    "\n",
    "for vectorizer in vectorizers:\n",
    "    print('=================================')\n",
    "    print(f'stop_words: {vectorizer.stop_words != None}, stemmer: {vectorizer.stemmer != None}')\n",
    "\n",
    "    X_BM25 = vectorizer.fit_transform(data_train) # <--- fit train data here\n",
    "    words = vectorizer.words\n",
    "\n",
    "    knn = NearestNeighbors(metric='cosine')\n",
    "    knn.fit(X_BM25)\n",
    "\n",
    "    y_pred = []\n",
    "    y_gold = []\n",
    "    for word, defi in tqdm(data_unseen_500.items()): # <--- use unseen_500 data here\n",
    "        query = list(defi)[0]\n",
    "        query = vectorizer.transform(query)\n",
    "\n",
    "        prediction = search(query, knn, words, n=1000)\n",
    "\n",
    "        y_pred.append(prediction)\n",
    "        y_gold.append(word)\n",
    "\n",
    "    evaluate(y_pred, y_gold)"
   ]
  }
 ],
 "metadata": {
  "interpreter": {
   "hash": "3d597f4c481aa0f25dceb95d2a0067e73c0966dcbd003d741d821a7208527ecf"
  },
  "kernelspec": {
   "display_name": "Python 3.9.7 ('base')",
   "language": "python",
   "name": "python3"
  },
  "language_info": {
   "codemirror_mode": {
    "name": "ipython",
    "version": 3
   },
   "file_extension": ".py",
   "mimetype": "text/x-python",
   "name": "python",
   "nbconvert_exporter": "python",
   "pygments_lexer": "ipython3",
   "version": "3.9.7"
  },
  "orig_nbformat": 4
 },
 "nbformat": 4,
 "nbformat_minor": 2
}
