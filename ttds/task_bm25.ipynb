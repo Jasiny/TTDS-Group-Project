{
 "cells": [
  {
   "cell_type": "markdown",
   "metadata": {},
   "source": [
    "# Tasks:\n",
    "\n",
    "1. First use the BM25 library from [https://github.com/dorianbrown/rank_bm25](https://github.com/dorianbrown/rank_bm25).\n",
    "2. Evaluate by calling evlauate() method from [utils.py](utils.py).\n",
    "3. If the results are better than our own TfidfVectorizer, try to implement BM25 by yourself.\n",
    "\n",
    "Note: the BM25 formula is avaliable in the lecture slides 8, page 11:\n",
    "[https://www.inf.ed.ac.uk/teaching/courses/tts/handouts/08RankedRetrieval2.pdf](https://www.inf.ed.ac.uk/teaching/courses/tts/handouts/08RankedRetrieval2.pdf)."
   ]
  }
 ],
 "metadata": {
  "interpreter": {
   "hash": "3d597f4c481aa0f25dceb95d2a0067e73c0966dcbd003d741d821a7208527ecf"
  },
  "kernelspec": {
   "display_name": "Python 3.9.7 ('base')",
   "language": "python",
   "name": "python3"
  },
  "language_info": {
   "codemirror_mode": {
    "name": "ipython",
    "version": 3
   },
   "file_extension": ".py",
   "mimetype": "text/x-python",
   "name": "python",
   "nbconvert_exporter": "python",
   "pygments_lexer": "ipython3",
   "version": "3.9.7"
  },
  "orig_nbformat": 4
 },
 "nbformat": 4,
 "nbformat_minor": 2
}
