{
 "cells": [
  {
   "cell_type": "markdown",
   "metadata": {},
   "source": [
    "### This notebook demonstrates how to evaluate accuracy"
   ]
  },
  {
   "cell_type": "code",
   "execution_count": 1,
   "metadata": {},
   "outputs": [],
   "source": [
    "from sklearn.neighbors import NearestNeighbors\n",
    "from TfidfVectorizer import TfidfVectorizer\n",
    "from tqdm import tqdm\n",
    "from utils import *\n",
    "\n",
    "data_test = load_data_from_json('data/test_200.json')"
   ]
  },
  {
   "cell_type": "markdown",
   "metadata": {},
   "source": [
    "### Data_5d"
   ]
  },
  {
   "cell_type": "code",
   "execution_count": 2,
   "metadata": {},
   "outputs": [
    {
     "name": "stderr",
     "output_type": "stream",
     "text": [
      "100%|██████████| 103874/103874 [00:03<00:00, 30045.40it/s]\n",
      "100%|██████████| 95141/95141 [00:23<00:00, 4034.34it/s] \n",
      "100%|██████████| 200/200 [00:19<00:00, 10.04it/s]\n"
     ]
    },
    {
     "name": "stdout",
     "output_type": "stream",
     "text": [
      "acc@1: 0.01\n",
      "acc@10: 0.07\n",
      "acc@100: 0.29\n",
      "median rank: 284\n",
      "standard error of mean rank: 29\n"
     ]
    },
    {
     "data": {
      "text/plain": [
       "(0.015, 0.065, 0.29, 283.5, 28.73878354897785)"
      ]
     },
     "execution_count": 2,
     "metadata": {},
     "output_type": "execute_result"
    }
   ],
   "source": [
    "data = load_data_from_json('data/data_5d.json', clean=True, use_examples=False)\n",
    "\n",
    "# fit tfidf vectorizer\n",
    "vectorizer = TfidfVectorizer(stop_words=None, stemmer=None, norm=False)\n",
    "X_tfidf = vectorizer.fit_transform(data) # <--- fit all data here\n",
    "words = vectorizer.words\n",
    "\n",
    "# fit knn\n",
    "knn = NearestNeighbors(metric='cosine')\n",
    "knn.fit(X_tfidf)\n",
    "\n",
    "y_pred = []\n",
    "y_gold = []\n",
    "for word, defi in tqdm(data_test.items()): # <--- use desc_200 data here\n",
    "    query = list(defi)[0]\n",
    "    query = vectorizer.transform(query)\n",
    "\n",
    "    prediction = search(query, knn, words, n=1000)\n",
    "\n",
    "    y_pred.append(prediction)\n",
    "    y_gold.append(word)\n",
    "\n",
    "evaluate(y_pred, y_gold)"
   ]
  },
  {
   "cell_type": "markdown",
   "metadata": {},
   "source": [
    "### Data_5d with Examples"
   ]
  },
  {
   "cell_type": "code",
   "execution_count": 3,
   "metadata": {},
   "outputs": [
    {
     "name": "stderr",
     "output_type": "stream",
     "text": [
      "100%|██████████| 103874/103874 [00:03<00:00, 29091.20it/s]\n",
      "100%|██████████| 96254/96254 [00:24<00:00, 3981.00it/s] \n",
      "100%|██████████| 200/200 [00:20<00:00,  9.71it/s]"
     ]
    },
    {
     "name": "stdout",
     "output_type": "stream",
     "text": [
      "acc@1: 0.02\n",
      "acc@10: 0.06\n",
      "acc@100: 0.28\n",
      "median rank: 316\n",
      "standard error of mean rank: 29\n"
     ]
    },
    {
     "name": "stderr",
     "output_type": "stream",
     "text": [
      "\n"
     ]
    },
    {
     "data": {
      "text/plain": [
       "(0.02, 0.06, 0.285, 316.5, 28.616604585450037)"
      ]
     },
     "execution_count": 3,
     "metadata": {},
     "output_type": "execute_result"
    }
   ],
   "source": [
    "data = load_data_from_json('data/data_5d.json', clean=True, use_examples=True)\n",
    "\n",
    "# fit tfidf vectorizer\n",
    "vectorizer = TfidfVectorizer(stop_words=None, stemmer=None, norm=False)\n",
    "X_tfidf = vectorizer.fit_transform(data) # <--- fit all data here\n",
    "words = vectorizer.words\n",
    "\n",
    "# fit knn\n",
    "knn = NearestNeighbors(metric='cosine')\n",
    "knn.fit(X_tfidf)\n",
    "\n",
    "y_pred = []\n",
    "y_gold = []\n",
    "for word, defi in tqdm(data_test.items()): # <--- use desc_200 data here\n",
    "    query = list(defi)[0]\n",
    "    query = vectorizer.transform(query)\n",
    "\n",
    "    prediction = search(query, knn, words, n=1000)\n",
    "\n",
    "    y_pred.append(prediction)\n",
    "    y_gold.append(word)\n",
    "\n",
    "evaluate(y_pred, y_gold)"
   ]
  },
  {
   "cell_type": "markdown",
   "metadata": {},
   "source": [
    "### Data_merged"
   ]
  },
  {
   "cell_type": "code",
   "execution_count": 4,
   "metadata": {},
   "outputs": [
    {
     "name": "stderr",
     "output_type": "stream",
     "text": [
      "100%|██████████| 103874/103874 [00:05<00:00, 19926.14it/s]\n",
      "100%|██████████| 113086/113086 [00:27<00:00, 4062.69it/s] \n",
      "100%|██████████| 200/200 [00:24<00:00,  8.18it/s]"
     ]
    },
    {
     "name": "stdout",
     "output_type": "stream",
     "text": [
      "acc@1: 0.01\n",
      "acc@10: 0.06\n",
      "acc@100: 0.34\n",
      "median rank: 218\n",
      "standard error of mean rank: 27\n"
     ]
    },
    {
     "name": "stderr",
     "output_type": "stream",
     "text": [
      "\n"
     ]
    },
    {
     "data": {
      "text/plain": [
       "(0.015, 0.06, 0.34, 217.5, 27.069715493056073)"
      ]
     },
     "execution_count": 4,
     "metadata": {},
     "output_type": "execute_result"
    }
   ],
   "source": [
    "data = load_data_from_json('data/data.json', clean=True)\n",
    "\n",
    "# fit tfidf vectorizer\n",
    "vectorizer = TfidfVectorizer(stop_words=None, stemmer=None, norm=False)\n",
    "X_tfidf = vectorizer.fit_transform(data) # <--- fit all data here\n",
    "words = vectorizer.words\n",
    "\n",
    "# fit knn\n",
    "knn = NearestNeighbors(metric='cosine')\n",
    "knn.fit(X_tfidf)\n",
    "\n",
    "y_pred = []\n",
    "y_gold = []\n",
    "for word, defi in tqdm(data_test.items()): # <--- use desc_200 data here\n",
    "    query = list(defi)[0]\n",
    "    query = vectorizer.transform(query)\n",
    "\n",
    "    prediction = search(query, knn, words, n=1000)\n",
    "\n",
    "    y_pred.append(prediction)\n",
    "    y_gold.append(word)\n",
    "\n",
    "evaluate(y_pred, y_gold)"
   ]
  },
  {
   "cell_type": "markdown",
   "metadata": {},
   "source": [
    "### Data_merged with Examples"
   ]
  },
  {
   "cell_type": "code",
   "execution_count": 5,
   "metadata": {},
   "outputs": [
    {
     "name": "stderr",
     "output_type": "stream",
     "text": [
      "100%|██████████| 103874/103874 [00:04<00:00, 21714.51it/s]\n",
      "100%|██████████| 117063/117063 [00:31<00:00, 3671.13it/s] \n",
      "100%|██████████| 200/200 [00:25<00:00,  7.89it/s]"
     ]
    },
    {
     "name": "stdout",
     "output_type": "stream",
     "text": [
      "acc@1: 0.02\n",
      "acc@10: 0.05\n",
      "acc@100: 0.33\n",
      "median rank: 235\n",
      "standard error of mean rank: 27\n"
     ]
    },
    {
     "name": "stderr",
     "output_type": "stream",
     "text": [
      "\n"
     ]
    },
    {
     "data": {
      "text/plain": [
       "(0.02, 0.05, 0.325, 235.0, 26.97302761788153)"
      ]
     },
     "execution_count": 5,
     "metadata": {},
     "output_type": "execute_result"
    }
   ],
   "source": [
    "data = load_data_from_json('data/data_with_examples.json', clean=True)\n",
    "\n",
    "# fit tfidf vectorizer\n",
    "vectorizer = TfidfVectorizer(stop_words=None, stemmer=None, norm=False)\n",
    "X_tfidf = vectorizer.fit_transform(data) # <--- fit all data here\n",
    "words = vectorizer.words\n",
    "\n",
    "# fit knn\n",
    "knn = NearestNeighbors(metric='cosine')\n",
    "knn.fit(X_tfidf)\n",
    "\n",
    "y_pred = []\n",
    "y_gold = []\n",
    "for word, defi in tqdm(data_test.items()): # <--- use desc_200 data here\n",
    "    query = list(defi)[0]\n",
    "    query = vectorizer.transform(query)\n",
    "\n",
    "    prediction = search(query, knn, words, n=1000)\n",
    "\n",
    "    y_pred.append(prediction)\n",
    "    y_gold.append(word)\n",
    "\n",
    "evaluate(y_pred, y_gold)"
   ]
  },
  {
   "cell_type": "markdown",
   "metadata": {},
   "source": [
    "### Data_augmented"
   ]
  },
  {
   "cell_type": "code",
   "execution_count": 6,
   "metadata": {},
   "outputs": [
    {
     "name": "stderr",
     "output_type": "stream",
     "text": [
      "100%|██████████| 103874/103874 [00:49<00:00, 2103.52it/s]\n",
      "100%|██████████| 125218/125218 [01:37<00:00, 1278.84it/s] \n",
      "100%|██████████| 200/200 [01:01<00:00,  3.25it/s]"
     ]
    },
    {
     "name": "stdout",
     "output_type": "stream",
     "text": [
      "acc@1: 0.01\n",
      "acc@10: 0.03\n",
      "acc@100: 0.23\n",
      "median rank: 446\n",
      "standard error of mean rank: 28\n"
     ]
    },
    {
     "name": "stderr",
     "output_type": "stream",
     "text": [
      "\n"
     ]
    },
    {
     "data": {
      "text/plain": [
       "(0.005, 0.025, 0.225, 446.0, 27.562574262938504)"
      ]
     },
     "execution_count": 6,
     "metadata": {},
     "output_type": "execute_result"
    }
   ],
   "source": [
    "data = load_data_from_json('data/data_with_augmented.json', clean=True)\n",
    "\n",
    "# fit tfidf vectorizer\n",
    "vectorizer = TfidfVectorizer(stop_words=None, stemmer=None, norm=False)\n",
    "X_tfidf = vectorizer.fit_transform(data) # <--- fit all data here\n",
    "words = vectorizer.words\n",
    "\n",
    "# fit knn\n",
    "knn = NearestNeighbors(metric='cosine')\n",
    "knn.fit(X_tfidf)\n",
    "\n",
    "y_pred = []\n",
    "y_gold = []\n",
    "for word, defi in tqdm(data_test.items()): # <--- use desc_200 data here\n",
    "    query = list(defi)[0]\n",
    "    query = vectorizer.transform(query)\n",
    "\n",
    "    prediction = search(query, knn, words, n=1000)\n",
    "\n",
    "    y_pred.append(prediction)\n",
    "    y_gold.append(word)\n",
    "\n",
    "evaluate(y_pred, y_gold)"
   ]
  },
  {
   "cell_type": "markdown",
   "metadata": {},
   "source": [
    "### Data_augmented with Examples"
   ]
  },
  {
   "cell_type": "code",
   "execution_count": 7,
   "metadata": {},
   "outputs": [
    {
     "name": "stderr",
     "output_type": "stream",
     "text": [
      "100%|██████████| 103874/103874 [00:57<00:00, 1795.68it/s]\n",
      "100%|██████████| 129297/129297 [01:48<00:00, 1194.70it/s] \n",
      "100%|██████████| 200/200 [01:12<00:00,  2.76it/s]"
     ]
    },
    {
     "name": "stdout",
     "output_type": "stream",
     "text": [
      "acc@1: 0.01\n",
      "acc@10: 0.02\n",
      "acc@100: 0.19\n",
      "median rank: 448\n",
      "standard error of mean rank: 28\n"
     ]
    },
    {
     "name": "stderr",
     "output_type": "stream",
     "text": [
      "\n"
     ]
    },
    {
     "data": {
      "text/plain": [
       "(0.005, 0.02, 0.19, 447.5, 27.65448954509918)"
      ]
     },
     "execution_count": 7,
     "metadata": {},
     "output_type": "execute_result"
    }
   ],
   "source": [
    "data = load_data_from_json('data/data_with_augmented_examples.json', clean=True)\n",
    "\n",
    "# fit tfidf vectorizer\n",
    "vectorizer = TfidfVectorizer(stop_words=None, stemmer=None, norm=False)\n",
    "X_tfidf = vectorizer.fit_transform(data) # <--- fit all data here\n",
    "words = vectorizer.words\n",
    "\n",
    "# fit knn\n",
    "knn = NearestNeighbors(metric='cosine')\n",
    "knn.fit(X_tfidf)\n",
    "\n",
    "y_pred = []\n",
    "y_gold = []\n",
    "for word, defi in tqdm(data_test.items()): # <--- use desc_200 data here\n",
    "    query = list(defi)[0]\n",
    "    query = vectorizer.transform(query)\n",
    "\n",
    "    prediction = search(query, knn, words, n=1000)\n",
    "\n",
    "    y_pred.append(prediction)\n",
    "    y_gold.append(word)\n",
    "\n",
    "evaluate(y_pred, y_gold)"
   ]
  }
 ],
 "metadata": {
  "interpreter": {
   "hash": "3d597f4c481aa0f25dceb95d2a0067e73c0966dcbd003d741d821a7208527ecf"
  },
  "kernelspec": {
   "display_name": "Python 3.9.7 ('base')",
   "language": "python",
   "name": "python3"
  },
  "language_info": {
   "codemirror_mode": {
    "name": "ipython",
    "version": 3
   },
   "file_extension": ".py",
   "mimetype": "text/x-python",
   "name": "python",
   "nbconvert_exporter": "python",
   "pygments_lexer": "ipython3",
   "version": "3.9.7"
  },
  "orig_nbformat": 4
 },
 "nbformat": 4,
 "nbformat_minor": 2
}
