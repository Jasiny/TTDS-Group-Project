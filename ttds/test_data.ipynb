{
 "cells": [
  {
   "cell_type": "markdown",
   "metadata": {},
   "source": [
    "### This notebook demonstrates how to evaluate accuracy"
   ]
  },
  {
   "cell_type": "code",
   "execution_count": 8,
   "metadata": {},
   "outputs": [],
   "source": [
    "from sklearn.neighbors import NearestNeighbors\n",
    "from TfidfVectorizer import TfidfVectorizer\n",
    "from tqdm import tqdm\n",
    "from utils import *\n",
    "\n",
    "data_test = load_data_from_json('data/test_200.json')"
   ]
  },
  {
   "cell_type": "markdown",
   "metadata": {},
   "source": [
    "### Data_5d"
   ]
  },
  {
   "cell_type": "code",
   "execution_count": 9,
   "metadata": {},
   "outputs": [
    {
     "name": "stderr",
     "output_type": "stream",
     "text": [
      "100%|██████████| 103874/103874 [00:07<00:00, 13123.72it/s]\n",
      "100%|██████████| 95109/95109 [00:23<00:00, 4066.76it/s] \n",
      "100%|██████████| 489/489 [00:52<00:00,  9.36it/s]"
     ]
    },
    {
     "name": "stdout",
     "output_type": "stream",
     "text": [
      "acc@1: 0.08\n",
      "acc@10: 0.28\n",
      "acc@100: 0.54\n",
      "median rank: 71\n",
      "standard error of mean rank: 17\n"
     ]
    },
    {
     "name": "stderr",
     "output_type": "stream",
     "text": [
      "\n"
     ]
    },
    {
     "data": {
      "text/plain": [
       "(0.081799591002045,\n",
       " 0.278118609406953,\n",
       " 0.5398773006134969,\n",
       " 71.0,\n",
       " 16.718255260206963)"
      ]
     },
     "execution_count": 9,
     "metadata": {},
     "output_type": "execute_result"
    }
   ],
   "source": [
    "data = load_data_from_json('data/data_5d.json', clean=True, use_examples=False)\n",
    "data_train, data_seen_500, data_unseen_500 = split_seen_unseen(data)\n",
    "\n",
    "# fit tfidf vectorizer\n",
    "vectorizer = TfidfVectorizer(stop_words=None, stemmer=None, norm=False)\n",
    "X_tfidf = vectorizer.fit_transform(data_train) # <--- fit train data here\n",
    "words = vectorizer.words\n",
    "\n",
    "# fit knn\n",
    "knn = NearestNeighbors(metric='cosine')\n",
    "knn.fit(X_tfidf)\n",
    "\n",
    "y_pred = []\n",
    "y_gold = []\n",
    "for word, defi in tqdm(data_unseen_500.items()): # <--- use unseen_500 data here\n",
    "    query = list(defi)[0]\n",
    "    query = vectorizer.transform(query)\n",
    "\n",
    "    prediction = search(query, knn, words, n=1000)\n",
    "\n",
    "    y_pred.append(prediction)\n",
    "    y_gold.append(word)\n",
    "\n",
    "evaluate(y_pred, y_gold)"
   ]
  },
  {
   "cell_type": "markdown",
   "metadata": {},
   "source": [
    "### Data_5d with Examples"
   ]
  },
  {
   "cell_type": "code",
   "execution_count": 10,
   "metadata": {},
   "outputs": [
    {
     "name": "stderr",
     "output_type": "stream",
     "text": [
      "100%|██████████| 103874/103874 [00:04<00:00, 23826.92it/s]\n",
      "100%|██████████| 96224/96224 [00:24<00:00, 3863.51it/s] \n",
      "100%|██████████| 489/489 [00:54<00:00,  8.96it/s]"
     ]
    },
    {
     "name": "stdout",
     "output_type": "stream",
     "text": [
      "acc@1: 0.09\n",
      "acc@10: 0.28\n",
      "acc@100: 0.56\n",
      "median rank: 62\n",
      "standard error of mean rank: 17\n"
     ]
    },
    {
     "name": "stderr",
     "output_type": "stream",
     "text": [
      "\n"
     ]
    },
    {
     "data": {
      "text/plain": [
       "(0.08997955010224949,\n",
       " 0.2842535787321063,\n",
       " 0.5644171779141104,\n",
       " 62.0,\n",
       " 17.204774367070524)"
      ]
     },
     "execution_count": 10,
     "metadata": {},
     "output_type": "execute_result"
    }
   ],
   "source": [
    "data = load_data_from_json('data/data_5d.json', clean=True, use_examples=True)\n",
    "data_train, data_seen_500, data_unseen_500 = split_seen_unseen(data)\n",
    "\n",
    "# fit tfidf vectorizer\n",
    "vectorizer = TfidfVectorizer(stop_words=None, stemmer=None, norm=False)\n",
    "X_tfidf = vectorizer.fit_transform(data_train) # <--- fit train data here\n",
    "words = vectorizer.words\n",
    "\n",
    "# fit knn\n",
    "knn = NearestNeighbors(metric='cosine')\n",
    "knn.fit(X_tfidf)\n",
    "\n",
    "y_pred = []\n",
    "y_gold = []\n",
    "for word, defi in tqdm(data_unseen_500.items()): # <--- use unseen_500 data here\n",
    "    query = list(defi)[0]\n",
    "    query = vectorizer.transform(query)\n",
    "\n",
    "    prediction = search(query, knn, words, n=1000)\n",
    "\n",
    "    y_pred.append(prediction)\n",
    "    y_gold.append(word)\n",
    "\n",
    "evaluate(y_pred, y_gold)"
   ]
  },
  {
   "cell_type": "markdown",
   "metadata": {},
   "source": [
    "### Data_merged"
   ]
  },
  {
   "cell_type": "code",
   "execution_count": 11,
   "metadata": {},
   "outputs": [
    {
     "name": "stderr",
     "output_type": "stream",
     "text": [
      "100%|██████████| 103874/103874 [00:05<00:00, 19275.28it/s]\n",
      "100%|██████████| 113059/113059 [00:27<00:00, 4077.40it/s] \n",
      "100%|██████████| 480/480 [00:57<00:00,  8.33it/s]"
     ]
    },
    {
     "name": "stdout",
     "output_type": "stream",
     "text": [
      "acc@1: 0.1\n",
      "acc@10: 0.32\n",
      "acc@100: 0.63\n",
      "median rank: 34\n",
      "standard error of mean rank: 17\n"
     ]
    },
    {
     "name": "stderr",
     "output_type": "stream",
     "text": [
      "\n"
     ]
    },
    {
     "data": {
      "text/plain": [
       "(0.09583333333333334, 0.3229166666666667, 0.63125, 33.5, 17.00783086565852)"
      ]
     },
     "execution_count": 11,
     "metadata": {},
     "output_type": "execute_result"
    }
   ],
   "source": [
    "data = load_data_from_json('data/data.json', clean=True)\n",
    "data_train, data_seen_500, data_unseen_500 = split_seen_unseen(data)\n",
    "\n",
    "# fit tfidf vectorizer\n",
    "vectorizer = TfidfVectorizer(stop_words=None, stemmer=None, norm=False)\n",
    "X_tfidf = vectorizer.fit_transform(data_train) # <--- fit train data here\n",
    "words = vectorizer.words\n",
    "\n",
    "# fit knn\n",
    "knn = NearestNeighbors(metric='cosine')\n",
    "knn.fit(X_tfidf)\n",
    "\n",
    "y_pred = []\n",
    "y_gold = []\n",
    "for word, defi in tqdm(data_unseen_500.items()): # <--- use unseen_500 data here\n",
    "    query = list(defi)[0]\n",
    "    query = vectorizer.transform(query)\n",
    "\n",
    "    prediction = search(query, knn, words, n=1000)\n",
    "\n",
    "    y_pred.append(prediction)\n",
    "    y_gold.append(word)\n",
    "\n",
    "evaluate(y_pred, y_gold)"
   ]
  },
  {
   "cell_type": "markdown",
   "metadata": {},
   "source": [
    "### Data_merged with Examples"
   ]
  },
  {
   "cell_type": "code",
   "execution_count": 12,
   "metadata": {},
   "outputs": [
    {
     "name": "stderr",
     "output_type": "stream",
     "text": [
      "100%|██████████| 103874/103874 [00:05<00:00, 17429.15it/s]\n",
      "100%|██████████| 117039/117039 [00:30<00:00, 3820.83it/s] \n",
      "100%|██████████| 478/478 [01:00<00:00,  7.91it/s]"
     ]
    },
    {
     "name": "stdout",
     "output_type": "stream",
     "text": [
      "acc@1: 0.1\n",
      "acc@10: 0.28\n",
      "acc@100: 0.57\n",
      "median rank: 62\n",
      "standard error of mean rank: 17\n"
     ]
    },
    {
     "name": "stderr",
     "output_type": "stream",
     "text": [
      "\n"
     ]
    },
    {
     "data": {
      "text/plain": [
       "(0.09832635983263599,\n",
       " 0.27615062761506276,\n",
       " 0.5690376569037657,\n",
       " 62.5,\n",
       " 17.29531581329862)"
      ]
     },
     "execution_count": 12,
     "metadata": {},
     "output_type": "execute_result"
    }
   ],
   "source": [
    "data = load_data_from_json('data/data_with_examples.json', clean=True)\n",
    "data_train, data_seen_500, data_unseen_500 = split_seen_unseen(data)\n",
    "\n",
    "# fit tfidf vectorizer\n",
    "vectorizer = TfidfVectorizer(stop_words=None, stemmer=None, norm=False)\n",
    "X_tfidf = vectorizer.fit_transform(data_train) # <--- fit train data here\n",
    "words = vectorizer.words\n",
    "\n",
    "# fit knn\n",
    "knn = NearestNeighbors(metric='cosine')\n",
    "knn.fit(X_tfidf)\n",
    "\n",
    "y_pred = []\n",
    "y_gold = []\n",
    "for word, defi in tqdm(data_unseen_500.items()): # <--- use unseen_500 data here\n",
    "    query = list(defi)[0]\n",
    "    query = vectorizer.transform(query)\n",
    "\n",
    "    prediction = search(query, knn, words, n=1000)\n",
    "\n",
    "    y_pred.append(prediction)\n",
    "    y_gold.append(word)\n",
    "\n",
    "evaluate(y_pred, y_gold)"
   ]
  },
  {
   "cell_type": "markdown",
   "metadata": {},
   "source": [
    "### Data_augmented"
   ]
  },
  {
   "cell_type": "code",
   "execution_count": 13,
   "metadata": {},
   "outputs": [
    {
     "name": "stderr",
     "output_type": "stream",
     "text": [
      "100%|██████████| 103874/103874 [00:50<00:00, 2046.97it/s]\n",
      "100%|██████████| 125216/125216 [01:38<00:00, 1269.40it/s] \n",
      "100%|██████████| 495/495 [02:32<00:00,  3.26it/s]"
     ]
    },
    {
     "name": "stdout",
     "output_type": "stream",
     "text": [
      "acc@1: 0.27\n",
      "acc@10: 0.56\n",
      "acc@100: 0.84\n",
      "median rank: 6\n",
      "standard error of mean rank: 9\n"
     ]
    },
    {
     "name": "stderr",
     "output_type": "stream",
     "text": [
      "\n"
     ]
    },
    {
     "data": {
      "text/plain": [
       "(0.2686868686868687,\n",
       " 0.5575757575757576,\n",
       " 0.8383838383838383,\n",
       " 6.0,\n",
       " 8.507769948839112)"
      ]
     },
     "execution_count": 13,
     "metadata": {},
     "output_type": "execute_result"
    }
   ],
   "source": [
    "data = load_data_from_json('data/data_with_augmented.json', clean=True)\n",
    "data_train, data_seen_500, data_unseen_500 = split_seen_unseen(data)\n",
    "\n",
    "# fit tfidf vectorizer\n",
    "vectorizer = TfidfVectorizer(stop_words=None, stemmer=None, norm=False)\n",
    "X_tfidf = vectorizer.fit_transform(data_train) # <--- fit train data here\n",
    "words = vectorizer.words\n",
    "\n",
    "# fit knn\n",
    "knn = NearestNeighbors(metric='cosine')\n",
    "knn.fit(X_tfidf)\n",
    "\n",
    "y_pred = []\n",
    "y_gold = []\n",
    "for word, defi in tqdm(data_unseen_500.items()): # <--- use unseen_500 data here\n",
    "    query = list(defi)[0]\n",
    "    query = vectorizer.transform(query)\n",
    "\n",
    "    prediction = search(query, knn, words, n=1000)\n",
    "\n",
    "    y_pred.append(prediction)\n",
    "    y_gold.append(word)\n",
    "\n",
    "evaluate(y_pred, y_gold)"
   ]
  },
  {
   "cell_type": "markdown",
   "metadata": {},
   "source": [
    "### Data_augmented with Examples"
   ]
  },
  {
   "cell_type": "code",
   "execution_count": 14,
   "metadata": {},
   "outputs": [
    {
     "name": "stderr",
     "output_type": "stream",
     "text": [
      "100%|██████████| 103874/103874 [00:58<00:00, 1783.56it/s]\n",
      "100%|██████████| 129297/129297 [01:49<00:00, 1175.67it/s] \n",
      "100%|██████████| 489/489 [02:55<00:00,  2.79it/s]"
     ]
    },
    {
     "name": "stdout",
     "output_type": "stream",
     "text": [
      "acc@1: 0.22\n",
      "acc@10: 0.5\n",
      "acc@100: 0.81\n",
      "median rank: 9\n",
      "standard error of mean rank: 10\n"
     ]
    },
    {
     "name": "stderr",
     "output_type": "stream",
     "text": [
      "\n"
     ]
    },
    {
     "data": {
      "text/plain": [
       "(0.2249488752556237,\n",
       " 0.5030674846625767,\n",
       " 0.8098159509202454,\n",
       " 9.0,\n",
       " 10.189472655313182)"
      ]
     },
     "execution_count": 14,
     "metadata": {},
     "output_type": "execute_result"
    }
   ],
   "source": [
    "data = load_data_from_json('data/data_with_augmented_examples.json', clean=True)\n",
    "data_train, data_seen_500, data_unseen_500 = split_seen_unseen(data)\n",
    "\n",
    "# fit tfidf vectorizer\n",
    "vectorizer = TfidfVectorizer(stop_words=None, stemmer=None, norm=False)\n",
    "X_tfidf = vectorizer.fit_transform(data_train) # <--- fit train data here\n",
    "words = vectorizer.words\n",
    "\n",
    "# fit knn\n",
    "knn = NearestNeighbors(metric='cosine')\n",
    "knn.fit(X_tfidf)\n",
    "\n",
    "y_pred = []\n",
    "y_gold = []\n",
    "for word, defi in tqdm(data_unseen_500.items()): # <--- use unseen_500 data here\n",
    "    query = list(defi)[0]\n",
    "    query = vectorizer.transform(query)\n",
    "\n",
    "    prediction = search(query, knn, words, n=1000)\n",
    "\n",
    "    y_pred.append(prediction)\n",
    "    y_gold.append(word)\n",
    "\n",
    "evaluate(y_pred, y_gold)"
   ]
  }
 ],
 "metadata": {
  "interpreter": {
   "hash": "3d597f4c481aa0f25dceb95d2a0067e73c0966dcbd003d741d821a7208527ecf"
  },
  "kernelspec": {
   "display_name": "Python 3.9.7 ('base')",
   "language": "python",
   "name": "python3"
  },
  "language_info": {
   "codemirror_mode": {
    "name": "ipython",
    "version": 3
   },
   "file_extension": ".py",
   "mimetype": "text/x-python",
   "name": "python",
   "nbconvert_exporter": "python",
   "pygments_lexer": "ipython3",
   "version": "3.9.7"
  },
  "orig_nbformat": 4
 },
 "nbformat": 4,
 "nbformat_minor": 2
}
