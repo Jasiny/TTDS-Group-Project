{
 "cells": [
  {
   "cell_type": "code",
   "execution_count": 1,
   "metadata": {},
   "outputs": [],
   "source": [
    "from utils import *\n",
    "import requests\n",
    "import json\n",
    "\n",
    "data_test = load_data_from_json('data/test_200.json')"
   ]
  },
  {
   "cell_type": "markdown",
   "metadata": {},
   "source": [
    "# OneLook"
   ]
  },
  {
   "cell_type": "code",
   "execution_count": 2,
   "metadata": {},
   "outputs": [
    {
     "name": "stderr",
     "output_type": "stream",
     "text": [
      "100%|██████████| 200/200 [02:54<00:00,  1.14it/s]\n"
     ]
    },
    {
     "name": "stdout",
     "output_type": "stream",
     "text": [
      "acc@1: 0.67\n",
      "acc@10: 0.81\n",
      "acc@100: 0.89\n",
      "median rank: 0\n",
      "standard error of mean rank: 17\n"
     ]
    }
   ],
   "source": [
    "y_pred = []\n",
    "y_gold = []\n",
    "onelook = []\n",
    "for word, defi in tqdm(data_test.items()):\n",
    "    query = list(defi)[0]\n",
    "    url = f'https://api.onelook.com/words?ml={query}&qe=ml&md=dp&max=1000&k=olthes_r4'\n",
    "    res = requests.get(url)\n",
    "    if res.status_code == 200:\n",
    "        predictions = [i['word'] for i in res.json()[1:]]\n",
    "        y_pred.append(predictions)\n",
    "        y_gold.append(word)\n",
    "        onelook.append({\n",
    "            'query': query,\n",
    "            'target': word,\n",
    "            'predictions': predictions\n",
    "        })\n",
    "    else:\n",
    "        print('Error happened!')\n",
    "\n",
    "evaluate(y_pred, y_gold)\n",
    "\n",
    "with open('outputs/output_onelook.json', 'w') as f:\n",
    "    json.dump(onelook, f, indent=4)"
   ]
  },
  {
   "cell_type": "markdown",
   "metadata": {},
   "source": [
    "# WantWords"
   ]
  },
  {
   "cell_type": "code",
   "execution_count": 3,
   "metadata": {},
   "outputs": [
    {
     "name": "stderr",
     "output_type": "stream",
     "text": [
      "100%|██████████| 200/200 [04:58<00:00,  1.49s/it]\n"
     ]
    },
    {
     "name": "stdout",
     "output_type": "stream",
     "text": [
      "acc@1: 0.14\n",
      "acc@10: 0.44\n",
      "acc@100: 0.59\n",
      "median rank: 30\n",
      "standard error of mean rank: 34\n"
     ]
    }
   ],
   "source": [
    "y_pred = []\n",
    "y_gold = []\n",
    "wantwords = []\n",
    "for word, defi in tqdm(data_test.items()):\n",
    "    query = list(defi)[0]\n",
    "    url = f'https://wantwords.net/EnglishRD/?q={query}&m=EnEn'\n",
    "    res = requests.get(url)\n",
    "    if res.status_code == 200:\n",
    "        predictions = [i['w'] for i in res.json()[1:]]\n",
    "        y_pred.append(predictions)\n",
    "        y_gold.append(word)\n",
    "        wantwords.append({\n",
    "            'query': query,\n",
    "            'target': word,\n",
    "            'predictions': predictions\n",
    "        })\n",
    "    else:\n",
    "        print('Error happened!')\n",
    "\n",
    "evaluate(y_pred, y_gold)\n",
    "\n",
    "with open('outputs/output_wantwords.json', 'w') as f:\n",
    "    json.dump(wantwords, f, indent=4)"
   ]
  }
 ],
 "metadata": {
  "interpreter": {
   "hash": "3d597f4c481aa0f25dceb95d2a0067e73c0966dcbd003d741d821a7208527ecf"
  },
  "kernelspec": {
   "display_name": "Python 3.9.7 ('base')",
   "language": "python",
   "name": "python3"
  },
  "language_info": {
   "codemirror_mode": {
    "name": "ipython",
    "version": 3
   },
   "file_extension": ".py",
   "mimetype": "text/x-python",
   "name": "python",
   "nbconvert_exporter": "python",
   "pygments_lexer": "ipython3",
   "version": "3.9.7"
  },
  "orig_nbformat": 4
 },
 "nbformat": 4,
 "nbformat_minor": 2
}
