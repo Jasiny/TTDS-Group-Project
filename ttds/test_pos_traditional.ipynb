{
 "cells": [
  {
   "cell_type": "markdown",
   "metadata": {},
   "source": [
    "### This notebook demonstrates how to evaluate accuracy"
   ]
  },
  {
   "cell_type": "code",
   "execution_count": 1,
   "metadata": {},
   "outputs": [
    {
     "name": "stdout",
     "output_type": "stream",
     "text": [
      "Num of Noun words: 71185 (78.26%)\n",
      "Num of Verb words: 13830 (15.20%)\n",
      "Num of Adj  words: 13445 (14.78%)\n",
      "Num of Adv  words: 3567 (3.92%)\n"
     ]
    }
   ],
   "source": [
    "from sklearn.neighbors import NearestNeighbors\n",
    "from BM25Vectorizer import BM25Vectorizer\n",
    "from tqdm import tqdm\n",
    "from utils import *\n",
    "\n",
    "data = load_data()[0]\n",
    "word2pos, words_noun, words_verb, words_adj, words_adv = load_pos_from_json('data/word2pos.json')"
   ]
  },
  {
   "cell_type": "code",
   "execution_count": 5,
   "metadata": {},
   "outputs": [],
   "source": [
    "seed =0\n",
    "num = 500\n",
    "noun_500 = np.random.RandomState(seed).choice(words_noun, num)\n",
    "verb_500 = np.random.RandomState(seed).choice(words_verb, num)\n",
    "adj_500 = np.random.RandomState(seed).choice(words_adj, num)\n",
    "adv_500 = np.random.RandomState(seed).choice(words_adv, num)"
   ]
  },
  {
   "cell_type": "markdown",
   "metadata": {},
   "source": [
    "### Fit data"
   ]
  },
  {
   "cell_type": "code",
   "execution_count": 6,
   "metadata": {},
   "outputs": [
    {
     "name": "stderr",
     "output_type": "stream",
     "text": [
      "100%|██████████| 129297/129297 [01:32<00:00, 1394.43it/s] \n"
     ]
    },
    {
     "data": {
      "text/plain": [
       "NearestNeighbors(metric='cosine')"
      ]
     },
     "execution_count": 6,
     "metadata": {},
     "output_type": "execute_result"
    }
   ],
   "source": [
    "# fit BM25 vectorizer\n",
    "vectorizer = BM25Vectorizer(stop_words=None, stemmer=None, norm=False)\n",
    "X_BM25 = vectorizer.fit_transform(data)\n",
    "words = vectorizer.words\n",
    "\n",
    "# fit knn\n",
    "knn = NearestNeighbors(metric='cosine')\n",
    "knn.fit(X_BM25)"
   ]
  },
  {
   "cell_type": "markdown",
   "metadata": {},
   "source": [
    "### Noun"
   ]
  },
  {
   "cell_type": "code",
   "execution_count": 7,
   "metadata": {},
   "outputs": [
    {
     "name": "stderr",
     "output_type": "stream",
     "text": [
      "100%|██████████| 98481/98481 [02:31<00:00, 650.26it/s] "
     ]
    },
    {
     "name": "stdout",
     "output_type": "stream",
     "text": [
      "acc@1: 0.69\n",
      "acc@10: 0.88\n",
      "acc@100: 0.98\n",
      "median rank: 0\n",
      "standard error of mean rank: 3\n"
     ]
    },
    {
     "name": "stderr",
     "output_type": "stream",
     "text": [
      "\n"
     ]
    },
    {
     "data": {
      "text/plain": [
       "(0.6931106471816284,\n",
       " 0.8810020876826722,\n",
       " 0.9791231732776617,\n",
       " 0.0,\n",
       " 3.0921543002283216)"
      ]
     },
     "execution_count": 7,
     "metadata": {},
     "output_type": "execute_result"
    }
   ],
   "source": [
    "y_pred = []\n",
    "y_gold = []\n",
    "for word, defi in tqdm(data.items()):\n",
    "    if word in noun_500:\n",
    "        query = list(defi)[0]\n",
    "        query = vectorizer.transform(query)\n",
    "\n",
    "        prediction = search(query, knn, words, n=1000)\n",
    "\n",
    "        y_pred.append(prediction)\n",
    "        y_gold.append(word)\n",
    "\n",
    "evaluate(y_pred, y_gold)"
   ]
  },
  {
   "cell_type": "markdown",
   "metadata": {},
   "source": [
    "### Verb"
   ]
  },
  {
   "cell_type": "code",
   "execution_count": 8,
   "metadata": {},
   "outputs": [
    {
     "name": "stderr",
     "output_type": "stream",
     "text": [
      "100%|██████████| 98481/98481 [02:34<00:00, 638.95it/s]  "
     ]
    },
    {
     "name": "stdout",
     "output_type": "stream",
     "text": [
      "acc@1: 0.35\n",
      "acc@10: 0.7\n",
      "acc@100: 0.92\n",
      "median rank: 2\n",
      "standard error of mean rank: 5\n"
     ]
    },
    {
     "name": "stderr",
     "output_type": "stream",
     "text": [
      "\n"
     ]
    },
    {
     "data": {
      "text/plain": [
       "(0.345679012345679,\n",
       " 0.6975308641975309,\n",
       " 0.9218106995884774,\n",
       " 2.0,\n",
       " 4.803582486051662)"
      ]
     },
     "execution_count": 8,
     "metadata": {},
     "output_type": "execute_result"
    }
   ],
   "source": [
    "y_pred = []\n",
    "y_gold = []\n",
    "for word, defi in tqdm(data.items()):\n",
    "    if word in verb_500:\n",
    "        query = list(defi)[0]\n",
    "        query = vectorizer.transform(query)\n",
    "\n",
    "        prediction = search(query, knn, words, n=1000)\n",
    "\n",
    "        y_pred.append(prediction)\n",
    "        y_gold.append(word)\n",
    "\n",
    "evaluate(y_pred, y_gold)"
   ]
  },
  {
   "cell_type": "markdown",
   "metadata": {},
   "source": [
    "### Adj"
   ]
  },
  {
   "cell_type": "code",
   "execution_count": 9,
   "metadata": {},
   "outputs": [
    {
     "name": "stderr",
     "output_type": "stream",
     "text": [
      "100%|██████████| 98481/98481 [02:33<00:00, 642.18it/s]  "
     ]
    },
    {
     "name": "stdout",
     "output_type": "stream",
     "text": [
      "acc@1: 0.44\n",
      "acc@10: 0.78\n",
      "acc@100: 0.95\n",
      "median rank: 1\n",
      "standard error of mean rank: 5\n"
     ]
    },
    {
     "name": "stderr",
     "output_type": "stream",
     "text": [
      "\n"
     ]
    },
    {
     "data": {
      "text/plain": [
       "(0.4382716049382716,\n",
       " 0.7777777777777778,\n",
       " 0.9465020576131687,\n",
       " 1.0,\n",
       " 4.90047924530888)"
      ]
     },
     "execution_count": 9,
     "metadata": {},
     "output_type": "execute_result"
    }
   ],
   "source": [
    "y_pred = []\n",
    "y_gold = []\n",
    "for word, defi in tqdm(data.items()):\n",
    "    if word in adj_500:\n",
    "        query = list(defi)[0]\n",
    "        query = vectorizer.transform(query)\n",
    "\n",
    "        prediction = search(query, knn, words, n=1000)\n",
    "\n",
    "        y_pred.append(prediction)\n",
    "        y_gold.append(word)\n",
    "\n",
    "evaluate(y_pred, y_gold)"
   ]
  },
  {
   "cell_type": "markdown",
   "metadata": {},
   "source": [
    "### Adv"
   ]
  },
  {
   "cell_type": "code",
   "execution_count": 10,
   "metadata": {},
   "outputs": [
    {
     "name": "stderr",
     "output_type": "stream",
     "text": [
      "100%|██████████| 98481/98481 [02:16<00:00, 719.24it/s]  "
     ]
    },
    {
     "name": "stdout",
     "output_type": "stream",
     "text": [
      "acc@1: 0.58\n",
      "acc@10: 0.84\n",
      "acc@100: 0.97\n",
      "median rank: 0\n",
      "standard error of mean rank: 4\n"
     ]
    },
    {
     "name": "stderr",
     "output_type": "stream",
     "text": [
      "\n"
     ]
    },
    {
     "data": {
      "text/plain": [
       "(0.5810185185185185,\n",
       " 0.8402777777777778,\n",
       " 0.9699074074074074,\n",
       " 0.0,\n",
       " 3.630389507069546)"
      ]
     },
     "execution_count": 10,
     "metadata": {},
     "output_type": "execute_result"
    }
   ],
   "source": [
    "y_pred = []\n",
    "y_gold = []\n",
    "for word, defi in tqdm(data.items()):\n",
    "    if word in adv_500:\n",
    "        query = list(defi)[0]\n",
    "        query = vectorizer.transform(query)\n",
    "\n",
    "        prediction = search(query, knn, words, n=1000)\n",
    "\n",
    "        y_pred.append(prediction)\n",
    "        y_gold.append(word)\n",
    "\n",
    "evaluate(y_pred, y_gold)"
   ]
  }
 ],
 "metadata": {
  "interpreter": {
   "hash": "3d597f4c481aa0f25dceb95d2a0067e73c0966dcbd003d741d821a7208527ecf"
  },
  "kernelspec": {
   "display_name": "Python 3.9.7 ('base')",
   "language": "python",
   "name": "python3"
  },
  "language_info": {
   "codemirror_mode": {
    "name": "ipython",
    "version": 3
   },
   "file_extension": ".py",
   "mimetype": "text/x-python",
   "name": "python",
   "nbconvert_exporter": "python",
   "pygments_lexer": "ipython3",
   "version": "3.9.7"
  },
  "orig_nbformat": 4
 },
 "nbformat": 4,
 "nbformat_minor": 2
}
