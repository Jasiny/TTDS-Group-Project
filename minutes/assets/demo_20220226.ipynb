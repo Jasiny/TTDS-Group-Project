{
 "cells": [
  {
   "cell_type": "code",
   "execution_count": 1,
   "metadata": {},
   "outputs": [],
   "source": [
    "from sklearn.feature_extraction.text import TfidfVectorizer\n",
    "from sklearn.neighbors import NearestNeighbors\n",
    "import numpy as np\n",
    "import itertools\n",
    "import json"
   ]
  },
  {
   "cell_type": "code",
   "execution_count": 2,
   "metadata": {},
   "outputs": [],
   "source": [
    "def load_data_from_json(fname, use_examples=False):\n",
    "    '''\n",
    "    Load data dictionary from local file.\n",
    "    '''\n",
    "    data = {}\n",
    "    with open(fname, 'r') as f:\n",
    "        for i in json.load(f):\n",
    "            word = i['word']\n",
    "            defi = i['definitions']\n",
    "            examples = i['examples']\n",
    "            data[word] = set(defi)\n",
    "            if use_examples and len(examples) > 0:\n",
    "                for j, example in enumerate(examples.copy()):\n",
    "                    # masking\n",
    "                    examples[j] = example.replace(word, ' ')\n",
    "                data[word] = data[word].union(examples)\n",
    "\n",
    "    all_defi = list(itertools.chain(*data.values()))\n",
    "    l = np.array([len(defi.split()) for defi in all_defi])\n",
    "    print(f'num of words: {len(set(data.keys()))}')\n",
    "    print(f'num of docs: {len(all_defi)}')\n",
    "    print(f'max doc length: {np.max(l)}')\n",
    "    print(f'min doc length: {np.min(l)}')\n",
    "    print(f'mean doc length: {round(np.mean(l), 2)}')\n",
    "    print(f'median doc length: {np.median(l)}')\n",
    "    \n",
    "    return data"
   ]
  },
  {
   "cell_type": "code",
   "execution_count": 3,
   "metadata": {},
   "outputs": [
    {
     "name": "stdout",
     "output_type": "stream",
     "text": [
      "num of words: 103874\n",
      "num of docs: 733318\n",
      "max doc length: 144\n",
      "min doc length: 1\n",
      "mean doc length: 11.6\n",
      "median doc length: 9.0\n"
     ]
    }
   ],
   "source": [
    "data_5d = load_data_from_json('data_5d.json', use_examples=False)"
   ]
  },
  {
   "cell_type": "code",
   "execution_count": 4,
   "metadata": {},
   "outputs": [
    {
     "name": "stdout",
     "output_type": "stream",
     "text": [
      "(733318, 105176)\n"
     ]
    }
   ],
   "source": [
    "X = []\n",
    "y = []\n",
    "for word, defi_set in data_5d.items():\n",
    "    for defi in defi_set:\n",
    "        X.append(defi)\n",
    "        y.append(word)\n",
    "\n",
    "# try to implement it by yourself\n",
    "tfidf_vectorizer = TfidfVectorizer(stop_words='english')\n",
    "X_tfidf = tfidf_vectorizer.fit_transform(X)\n",
    "print(X_tfidf.shape) # (733318, 105176)"
   ]
  },
  {
   "cell_type": "code",
   "execution_count": 5,
   "metadata": {},
   "outputs": [
    {
     "name": "stdout",
     "output_type": "stream",
     "text": [
      "(boogie         , 0.694) -----> to move quickly boogied down the road in their car\n",
      "(jet            , 0.588) -----> to move very quickly\n",
      "(quickest       , 0.588) -----> most quickly\n",
      "(zoom           , 0.588) -----> move along very quickly\n",
      "(fastest        , 0.588) -----> most quickly\n",
      "(faster         , 0.588) -----> more quickly\n",
      "(quicker        , 0.588) -----> more quickly\n",
      "(sharp          , 0.588) -----> quickly\n",
      "(flirting       , 0.588) -----> to move quickly\n",
      "(smartly        , 0.588) -----> quickly\n"
     ]
    }
   ],
   "source": [
    "query = 'a road that car can go through quickly'\n",
    "# query = 'a place can hold patients'\n",
    "# query = 'a place had a lot of books'\n",
    "# query = 'a food tastes good'\n",
    "# query = 'very beautiful'\n",
    "\n",
    "query = tfidf_vectorizer.transform([query])\n",
    "\n",
    "knn = NearestNeighbors(n_neighbors=10, metric='cosine')\n",
    "knn.fit(X_tfidf)\n",
    "\n",
    "dist, nbrs = knn.kneighbors(query)\n",
    "\n",
    "for i, score in zip(nbrs[0], 1-dist[0]):\n",
    "    word = y[i]\n",
    "    print(f'({word:<15}, {round(score,3)}) -----> {X[i]}')"
   ]
  }
 ],
 "metadata": {
  "interpreter": {
   "hash": "3d597f4c481aa0f25dceb95d2a0067e73c0966dcbd003d741d821a7208527ecf"
  },
  "kernelspec": {
   "display_name": "Python 3.9.7 ('base')",
   "language": "python",
   "name": "python3"
  },
  "language_info": {
   "codemirror_mode": {
    "name": "ipython",
    "version": 3
   },
   "file_extension": ".py",
   "mimetype": "text/x-python",
   "name": "python",
   "nbconvert_exporter": "python",
   "pygments_lexer": "ipython3",
   "version": "3.9.7"
  },
  "orig_nbformat": 4
 },
 "nbformat": 4,
 "nbformat_minor": 2
}
