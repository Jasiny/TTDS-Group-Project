{
 "cells": [
  {
   "cell_type": "code",
   "execution_count": null,
   "metadata": {},
   "outputs": [],
   "source": [
    "# !pip install -U sentence-transformers\n",
    "# !pip install -U transformers\n",
    "# import nltk\n",
    "# nltk.download('wordnet')\n",
    "# nltk.download('omw-1.4')"
   ]
  },
  {
   "cell_type": "code",
   "execution_count": 1,
   "metadata": {},
   "outputs": [],
   "source": [
    "from sklearn.feature_extraction.text import TfidfVectorizer\n",
    "from sentence_transformers import SentenceTransformer, util\n",
    "from gensim.parsing.preprocessing import remove_stopwords\n",
    "from gensim.corpora.dictionary import Dictionary\n",
    "from sklearn.neighbors import NearestNeighbors\n",
    "from nltk.corpus import wordnet as wn\n",
    "from matplotlib import pyplot as plt\n",
    "from gensim.models import LdaModel\n",
    "import pickle\n",
    "import os"
   ]
  },
  {
   "cell_type": "code",
   "execution_count": 2,
   "metadata": {},
   "outputs": [],
   "source": [
    "X = []\n",
    "y = []\n",
    "\n",
    "for word in wn.all_synsets():\n",
    "    # e.g. Synset('able.a.01')\n",
    "    X.append(word.definition())\n",
    "    y.append(word.name().split('.')[0])"
   ]
  },
  {
   "cell_type": "code",
   "execution_count": 3,
   "metadata": {},
   "outputs": [
    {
     "name": "stdout",
     "output_type": "stream",
     "text": [
      "num of words: 86555\n",
      "num of docs: 117659\n",
      "max doc length: 82\n",
      "min doc length: 1\n"
     ]
    },
    {
     "data": {
      "image/png": "[encoded data removed]",
      "text/plain": [
       "<Figure size 432x288 with 1 Axes>"
      ]
     },
     "metadata": {
      "needs_background": "light"
     },
     "output_type": "display_data"
    }
   ],
   "source": [
    "l = [len(i.split()) for i in X]\n",
    "print(f'num of words: {len(set(y))}')\n",
    "print(f'num of docs: {len(X)}')\n",
    "print(f'max doc length: {max(l)}')\n",
    "print(f'min doc length: {min(l)}')\n",
    "\n",
    "plt.hist(l, bins=50)\n",
    "plt.show()"
   ]
  },
  {
   "cell_type": "markdown",
   "metadata": {},
   "source": [
    "# 1. TF-IDF + KNN"
   ]
  },
  {
   "cell_type": "code",
   "execution_count": 4,
   "metadata": {},
   "outputs": [
    {
     "name": "stdout",
     "output_type": "stream",
     "text": [
      "(117659, 44399)\n"
     ]
    }
   ],
   "source": [
    "# https://scikit-learn.org/stable/modules/generated/sklearn.feature_extraction.text.TfidfVectorizer.html\n",
    "tfidf_vectorizer = TfidfVectorizer()\n",
    "X_tfidf = tfidf_vectorizer.fit_transform(X)\n",
    "print(X_tfidf.shape)"
   ]
  },
  {
   "cell_type": "code",
   "execution_count": 5,
   "metadata": {},
   "outputs": [
    {
     "name": "stdout",
     "output_type": "stream",
     "text": [
      "(pass           , 0.404)\n",
      "(experience     , 0.4)\n",
      "(quicker        , 0.374)\n",
      "(short-order    , 0.365)\n",
      "(whip_through   , 0.362)\n",
      "(quickest       , 0.357)\n",
      "(roadway        , 0.355)\n",
      "(short_order    , 0.353)\n",
      "(blow           , 0.35)\n",
      "(douse          , 0.349)\n"
     ]
    }
   ],
   "source": [
    "query = 'a road that car can go through quickly'\n",
    "# query = 'a place can hold patients'\n",
    "# query = 'a place had a lot of books'\n",
    "# query = 'a food tastes good'\n",
    "# query = 'very beautiful'\n",
    "\n",
    "query = tfidf_vectorizer.transform([query])\n",
    "\n",
    "knn = NearestNeighbors(n_neighbors=10)\n",
    "knn.fit(X_tfidf)\n",
    "\n",
    "nbrs = knn.kneighbors(query, return_distance=False)[0]\n",
    "for i in nbrs:\n",
    "    word = y[i]\n",
    "    score = util.dot_score(X_tfidf[i].toarray(), query.toarray()).item()\n",
    "    print(f'({word:<15}, {round(score,3)})')"
   ]
  },
  {
   "cell_type": "code",
   "execution_count": 6,
   "metadata": {},
   "outputs": [
    {
     "data": {
      "text/plain": [
       "'food that tastes good but is high in calories having little nutritional value'"
      ]
     },
     "execution_count": 6,
     "metadata": {},
     "output_type": "execute_result"
    }
   ],
   "source": [
    "# counter-example can be written in report\n",
    "X[y.index('junk_food')]"
   ]
  },
  {
   "cell_type": "markdown",
   "metadata": {},
   "source": [
    "# 2. LDA + KNN"
   ]
  },
  {
   "cell_type": "code",
   "execution_count": 7,
   "metadata": {},
   "outputs": [],
   "source": [
    "# https://radimrehurek.com/gensim/models/ldamodel.html\n",
    "NUM_TOPICS = 50 \n",
    "\n",
    "data_lda = [remove_stopwords(x).split() for x in X]\n",
    "dict_lda = Dictionary(data_lda)\n",
    "corpus_lda = [dict_lda.doc2bow(doc) for doc in data_lda]\n",
    "lda = LdaModel(corpus_lda, NUM_TOPICS, dict_lda, random_state=0)"
   ]
  },
  {
   "cell_type": "code",
   "execution_count": 8,
   "metadata": {},
   "outputs": [
    {
     "name": "stdout",
     "output_type": "stream",
     "text": [
      "(117659, 50)\n"
     ]
    }
   ],
   "source": [
    "X_lda = []\n",
    "for doc in lda.get_document_topics(corpus_lda, minimum_probability=0):\n",
    "    X_lda.append([score for _, score in doc])\n",
    "print(f'({len(X_lda)}, {len(X_lda[0])})')"
   ]
  },
  {
   "cell_type": "code",
   "execution_count": 9,
   "metadata": {},
   "outputs": [
    {
     "data": {
      "text/plain": [
       "[0.0025000358,\n",
       " 0.0025000358,\n",
       " 0.0025000358,\n",
       " 0.0025000358,\n",
       " 0.25250134,\n",
       " 0.0025000358,\n",
       " 0.0025000358,\n",
       " 0.0025000358,\n",
       " 0.3774979,\n",
       " 0.0025000358,\n",
       " 0.0025000358,\n",
       " 0.0025000358,\n",
       " 0.0025000358,\n",
       " 0.0025000358,\n",
       " 0.0025000358,\n",
       " 0.0025000358,\n",
       " 0.0025000358,\n",
       " 0.0025000358,\n",
       " 0.0025000358,\n",
       " 0.0025000358,\n",
       " 0.0025000358,\n",
       " 0.0025000358,\n",
       " 0.0025000358,\n",
       " 0.0025000358,\n",
       " 0.12749797,\n",
       " 0.0025000358,\n",
       " 0.0025000358,\n",
       " 0.0025000358,\n",
       " 0.0025000358,\n",
       " 0.0025000358,\n",
       " 0.0025000358,\n",
       " 0.0025000358,\n",
       " 0.0025000358,\n",
       " 0.12750113,\n",
       " 0.0025000358,\n",
       " 0.0025000358,\n",
       " 0.0025000358,\n",
       " 0.0025000358,\n",
       " 0.0025000358,\n",
       " 0.0025000358,\n",
       " 0.0025000358,\n",
       " 0.0025000358,\n",
       " 0.0025000358,\n",
       " 0.0025000358,\n",
       " 0.0025000358,\n",
       " 0.0025000358,\n",
       " 0.0025000358,\n",
       " 0.0025000358,\n",
       " 0.0025000358,\n",
       " 0.0025000358]"
      ]
     },
     "execution_count": 9,
     "metadata": {},
     "output_type": "execute_result"
    }
   ],
   "source": [
    "X_lda[0]"
   ]
  },
  {
   "cell_type": "code",
   "execution_count": 10,
   "metadata": {},
   "outputs": [
    {
     "data": {
      "text/plain": [
       "[('condition', 0.16595136),\n",
       " ('means', 0.11573161),\n",
       " ('central', 0.080407344),\n",
       " ('normal', 0.05976753),\n",
       " ('space', 0.05214628),\n",
       " ('serve', 0.04308497),\n",
       " ('nervous', 0.0267681),\n",
       " ('necessary', 0.023836432),\n",
       " ('rain', 0.02318721),\n",
       " ('outside', 0.017841544),\n",
       " ('focus', 0.01575522),\n",
       " ('ends', 0.015530254),\n",
       " ('brief', 0.012296792),\n",
       " ('periods', 0.0113102645),\n",
       " ('visual', 0.0085783545),\n",
       " ('skill', 0.008544227),\n",
       " ('retina', 0.00563906),\n",
       " ('energetic', 0.004313839),\n",
       " ('images', 0.0030257863),\n",
       " ('determination', 0.0025905278)]"
      ]
     },
     "execution_count": 10,
     "metadata": {},
     "output_type": "execute_result"
    }
   ],
   "source": [
    "lda.show_topic(8, topn=20)"
   ]
  },
  {
   "cell_type": "code",
   "execution_count": 11,
   "metadata": {},
   "outputs": [
    {
     "name": "stdout",
     "output_type": "stream",
     "text": [
      "(shy            , 0.265)\n",
      "(whisk          , 0.265)\n",
      "(run_up         , 0.265)\n",
      "(allegro        , 0.265)\n",
      "(whisk          , 0.265)\n",
      "(whip_up        , 0.265)\n",
      "(abruptly       , 0.265)\n",
      "(dash_off       , 0.265)\n",
      "(deluge         , 0.265)\n",
      "(fried_rice     , 0.265)\n"
     ]
    }
   ],
   "source": [
    "knn = NearestNeighbors(n_neighbors=10)\n",
    "knn.fit(X_lda)\n",
    "\n",
    "query = 'a road that car can go through quickly'\n",
    "# query = 'a place can hold patients'\n",
    "# query = 'a place had a lot of books'\n",
    "# query = 'a food tastes good'\n",
    "# query = 'very beautiful'\n",
    "\n",
    "query = dict_lda.doc2bow(query.split())\n",
    "query = lda.get_document_topics(query, minimum_probability=0)\n",
    "query = [q for _,q in query]\n",
    "\n",
    "nbrs = knn.kneighbors([query], return_distance=False)[0]\n",
    "for i in nbrs:\n",
    "    word = y[i]\n",
    "    score = util.dot_score(X_lda[i], query).item()\n",
    "    print(f'({word:<15}, {round(score,3)})')"
   ]
  },
  {
   "cell_type": "code",
   "execution_count": 12,
   "metadata": {},
   "outputs": [
    {
     "data": {
      "text/plain": [
       "[0.010000033,\n",
       " 0.010000033,\n",
       " 0.010000033,\n",
       " 0.010000033,\n",
       " 0.010000033,\n",
       " 0.010000033,\n",
       " 0.010000033,\n",
       " 0.010000033,\n",
       " 0.010000033,\n",
       " 0.010000033,\n",
       " 0.010000033,\n",
       " 0.010000033,\n",
       " 0.010000033,\n",
       " 0.010000033,\n",
       " 0.010000033,\n",
       " 0.010000033,\n",
       " 0.010000033,\n",
       " 0.010000033,\n",
       " 0.010000033,\n",
       " 0.010000033,\n",
       " 0.010000033,\n",
       " 0.010000033,\n",
       " 0.010000033,\n",
       " 0.010000033,\n",
       " 0.010000033,\n",
       " 0.010000033,\n",
       " 0.010000033,\n",
       " 0.010000033,\n",
       " 0.010000033,\n",
       " 0.010000033,\n",
       " 0.010000033,\n",
       " 0.010000033,\n",
       " 0.010000033,\n",
       " 0.010000033,\n",
       " 0.010000033,\n",
       " 0.010000033,\n",
       " 0.010000033,\n",
       " 0.010000033,\n",
       " 0.010000033,\n",
       " 0.010000033,\n",
       " 0.010000033,\n",
       " 0.010000033,\n",
       " 0.010000033,\n",
       " 0.010000033,\n",
       " 0.010000033,\n",
       " 0.010000033,\n",
       " 0.010000033,\n",
       " 0.5099984,\n",
       " 0.010000033,\n",
       " 0.010000033]"
      ]
     },
     "execution_count": 12,
     "metadata": {},
     "output_type": "execute_result"
    }
   ],
   "source": [
    "query"
   ]
  },
  {
   "cell_type": "markdown",
   "metadata": {},
   "source": [
    "# 3. BERT + KNN"
   ]
  },
  {
   "cell_type": "code",
   "execution_count": 13,
   "metadata": {},
   "outputs": [],
   "source": [
    "# https://github.com/UKPLab/sentence-transformers\n",
    "model = SentenceTransformer('multi-qa-MiniLM-L6-cos-v1')"
   ]
  },
  {
   "cell_type": "code",
   "execution_count": 14,
   "metadata": {},
   "outputs": [],
   "source": [
    "if os.path.exists('embeds.pkl'):\n",
    "    with open('embeds.pkl', 'rb') as f:\n",
    "        data = pickle.load(f)\n",
    "else:\n",
    "    X_embed = [model.encode(x) for x in X]\n",
    "    data = {'X_embed': X_embed,'y': y}\n",
    "    with open('embeds.pkl', 'wb') as f:\n",
    "        pickle.dump(data, f)"
   ]
  },
  {
   "cell_type": "code",
   "execution_count": 15,
   "metadata": {},
   "outputs": [
    {
     "name": "stdout",
     "output_type": "stream",
     "text": [
      "(roadway        , 0.705)\n",
      "(speedway       , 0.698)\n",
      "(slow_lane      , 0.659)\n",
      "(highroad       , 0.646)\n",
      "(access_road    , 0.644)\n",
      "(fast_lane      , 0.643)\n",
      "(clearway       , 0.633)\n",
      "(expressway     , 0.618)\n",
      "(turn_in        , 0.617)\n",
      "(lane           , 0.615)\n",
      "(rally          , 0.606)\n",
      "(single-lane    , 0.602)\n",
      "(beltway        , 0.596)\n",
      "(track          , 0.593)\n",
      "(detour         , 0.592)\n",
      "(drive          , 0.592)\n",
      "(turnout        , 0.588)\n",
      "(blind_curve    , 0.58)\n",
      "(one-way_street , 0.576)\n",
      "(blind_corner   , 0.569)\n",
      "(driveway       , 0.568)\n",
      "(motorist       , 0.567)\n",
      "(gridlock       , 0.566)\n",
      "(divided_highway, 0.565)\n",
      "(racer          , 0.56)\n",
      "(draw_up        , 0.555)\n",
      "(traffic_cop    , 0.555)\n",
      "(whip_through   , 0.551)\n",
      "(frontage_road  , 0.55)\n",
      "(two-way_street , 0.55)\n"
     ]
    }
   ],
   "source": [
    "X_embed = data['X_embed']\n",
    "y       = data['y']\n",
    "\n",
    "knn = NearestNeighbors(n_neighbors=30)\n",
    "knn.fit(X_embed)\n",
    "\n",
    "query = model.encode(\"a road that car can't go through quickly\")\n",
    "# query = model.encode('a place can hold patients')\n",
    "# query = model.encode('a place had a lot of books')\n",
    "# query = model.encode('a food tastes not good')\n",
    "# query = model.encode('not beautiful')\n",
    "# query = model.encode('')\n",
    "\n",
    "nbrs = knn.kneighbors([query], return_distance=False)[0]\n",
    "for i in nbrs:\n",
    "    word = y[i]\n",
    "    score = util.dot_score(X_embed[i], query).item()\n",
    "    print(f'({word:<15}, {round(score,3)})')"
   ]
  }
 ],
 "metadata": {
  "interpreter": {
   "hash": "3d597f4c481aa0f25dceb95d2a0067e73c0966dcbd003d741d821a7208527ecf"
  },
  "kernelspec": {
   "display_name": "Python 3.9.7 64-bit ('base': conda)",
   "language": "python",
   "name": "python3"
  },
  "language_info": {
   "codemirror_mode": {
    "name": "ipython",
    "version": 3
   },
   "file_extension": ".py",
   "mimetype": "text/x-python",
   "name": "python",
   "nbconvert_exporter": "python",
   "pygments_lexer": "ipython3",
   "version": "3.9.7"
  },
  "orig_nbformat": 4
 },
 "nbformat": 4,
 "nbformat_minor": 2
}
